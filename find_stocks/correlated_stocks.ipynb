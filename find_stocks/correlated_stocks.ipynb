{
 "cells": [
  {
   "cell_type": "code",
   "execution_count": 6,
   "metadata": {},
   "outputs": [
    {
     "ename": "ModuleNotFoundError",
     "evalue": "No module named 'tickers'",
     "output_type": "error",
     "traceback": [
      "\u001b[0;31m---------------------------------------------------------------------------\u001b[0m",
      "\u001b[0;31mModuleNotFoundError\u001b[0m                       Traceback (most recent call last)",
      "Cell \u001b[0;32mIn[6], line 14\u001b[0m\n\u001b[1;32m     12\u001b[0m parent_dir \u001b[38;5;241m=\u001b[39m os\u001b[38;5;241m.\u001b[39mpath\u001b[38;5;241m.\u001b[39mdirname(os\u001b[38;5;241m.\u001b[39mgetcwd())\n\u001b[1;32m     13\u001b[0m sys\u001b[38;5;241m.\u001b[39mpath\u001b[38;5;241m.\u001b[39mappend(project_dir)\n\u001b[0;32m---> 14\u001b[0m \u001b[38;5;28;01mimport\u001b[39;00m \u001b[38;5;21;01mtickers\u001b[39;00m \u001b[38;5;28;01mas\u001b[39;00m \u001b[38;5;21;01mti\u001b[39;00m\n\u001b[1;32m     16\u001b[0m \u001b[38;5;66;03m# Setting up date range for stock data\u001b[39;00m\n\u001b[1;32m     17\u001b[0m num_of_years \u001b[38;5;241m=\u001b[39m \u001b[38;5;241m1\u001b[39m\n",
      "\u001b[0;31mModuleNotFoundError\u001b[0m: No module named 'tickers'"
     ]
    }
   ],
   "source": [
    "# Import necessary libraries\n",
    "import datetime as dt\n",
    "import numpy as np\n",
    "import pandas as pd\n",
    "import matplotlib.pyplot as plt\n",
    "import yfinance as yf\n",
    "import sys\n",
    "import os\n",
    "\n",
    "# Ensuring the correct directory is in path for module import\n",
    "#project_dir = os.path.abspath(os.path.join(os.getcwd(), os.pardir, '150-quantitative-finance-Python-programs'))\n",
    "parent_dir = os.path.dirname(os.getcwd())\n",
    "sys.path.append(project_dir)\n",
    "import tickers as ti\n",
    "\n",
    "# Setting up date range for stock data\n",
    "num_of_years = 1\n",
    "start = dt.date.today() - dt.timedelta(days=int(365.25 * num_of_years))\n",
    "end = dt.date.today()\n",
    "\n",
    "# Retrieve S&P 500 tickers and adjust ticker formatting\n",
    "tickers = ti.tickers_sp500()\n",
    "tickers = [item.replace(\".\", \"-\") for item in tickers]\n",
    "\n",
    "# Fetch and process stock data using yfinance\n",
    "dataset = yf.download(tickers, start=start, end=end)[\"Adj Close\"]\n",
    "stocks_returns = np.log(dataset / dataset.shift(1))\n",
    "\n",
    "# Compute and print correlation matrix\n",
    "corr_matrix = stocks_returns.corr()\n",
    "print(\"\\nCorrelation Matrix\\n\", corr_matrix)\n",
    "\n",
    "# Function to visualize correlation matrix as a heatmap\n",
    "def visualize_correlation_matrix(df_corr):\n",
    "    data = df_corr.values\n",
    "    plt.rcParams[\"figure.figsize\"] = (15, 10)\n",
    "    fig, ax = plt.subplots()\n",
    "    heatmap = ax.pcolor(data, cmap=plt.cm.RdYlGn)\n",
    "    fig.colorbar(heatmap)\n",
    "\n",
    "    # Set axis ticks and labels\n",
    "    ax.set_xticks(np.arange(data.shape[1]) + 0.5, minor=False)\n",
    "    ax.set_yticks(np.arange(data.shape[0]) + 0.5, minor=False)\n",
    "    ax.invert_yaxis()\n",
    "    ax.xaxis.tick_top()\n",
    "    ax.set_xticklabels(df_corr.columns, rotation=90)\n",
    "    ax.set_yticklabels(df_corr.index)\n",
    "\n",
    "    # Setting heatmap color limits\n",
    "    heatmap.set_clim(-1, 1)\n",
    "    plt.tight_layout()\n",
    "    plt.show()\n",
    "\n",
    "visualize_correlation_matrix(corr_matrix)\n",
    "\n",
    "# Helper functions to identify top correlated stock pairs\n",
    "def get_redundant_pairs(df):\n",
    "    pairs_to_drop = set()\n",
    "    for i in range(df.shape[1]):\n",
    "        for j in range(i + 1):\n",
    "            pairs_to_drop.add((df.columns[i], df.columns[j]))\n",
    "    return pairs_to_drop\n",
    "\n",
    "def get_top_abs_correlations(df, n=25):\n",
    "    au_corr = df.abs().unstack()\n",
    "    labels_to_drop = get_redundant_pairs(df)\n",
    "    au_corr = au_corr.drop(labels=labels_to_drop).sort_values(ascending=False)\n",
    "    return au_corr[0:n]\n",
    "\n",
    "# Displaying top absolute correlations\n",
    "print(\"\\nTop Absolute Correlations\")\n",
    "print(get_top_abs_correlations(stocks_returns))"
   ]
  }
 ],
 "metadata": {
  "kernelspec": {
   "display_name": "pqpquant",
   "language": "python",
   "name": "python3"
  },
  "language_info": {
   "codemirror_mode": {
    "name": "ipython",
    "version": 3
   },
   "file_extension": ".py",
   "mimetype": "text/x-python",
   "name": "python",
   "nbconvert_exporter": "python",
   "pygments_lexer": "ipython3",
   "version": "3.12.2"
  }
 },
 "nbformat": 4,
 "nbformat_minor": 2
}
